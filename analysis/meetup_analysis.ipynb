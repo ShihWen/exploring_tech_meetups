{
 "cells": [
  {
   "cell_type": "code",
   "execution_count": 1,
   "metadata": {
    "collapsed": true
   },
   "outputs": [],
   "source": [
    "%load_ext autoreload\n",
    "%autoreload 2\n",
    "%matplotlib inline\n",
    "%config InlineBackend.figure_format = 'svg'"
   ]
  },
  {
   "cell_type": "code",
   "execution_count": 2,
   "metadata": {
    "collapsed": true
   },
   "outputs": [],
   "source": [
    "# svg, png. no inline pdf."
   ]
  },
  {
   "cell_type": "code",
   "execution_count": 3,
   "metadata": {
    "collapsed": true
   },
   "outputs": [],
   "source": [
    "import matplotlib as mpl\n",
    "import matplotlib.pyplot as plt\n",
    "#import seaborn as sns"
   ]
  },
  {
   "cell_type": "code",
   "execution_count": 4,
   "metadata": {
    "collapsed": true
   },
   "outputs": [],
   "source": [
    "import numpy as np\n",
    "import scipy\n",
    "import scipy.stats\n",
    "import pandas"
   ]
  },
  {
   "cell_type": "code",
   "execution_count": 5,
   "metadata": {
    "collapsed": true
   },
   "outputs": [],
   "source": [
    "import sklearn"
   ]
  },
  {
   "cell_type": "code",
   "execution_count": 6,
   "metadata": {
    "collapsed": true
   },
   "outputs": [],
   "source": [
    "import collections\n",
    "import cPickle as pickle\n",
    "import unicodecsv as csv\n",
    "import json\n",
    "import re"
   ]
  },
  {
   "cell_type": "code",
   "execution_count": 7,
   "metadata": {
    "collapsed": true
   },
   "outputs": [],
   "source": [
    "import analysis_tools"
   ]
  },
  {
   "cell_type": "code",
   "execution_count": 8,
   "metadata": {
    "collapsed": false
   },
   "outputs": [],
   "source": [
    "np.seterr(divide='raise', over='raise', under='raise', invalid='raise');"
   ]
  },
  {
   "cell_type": "markdown",
   "metadata": {},
   "source": [
    "# Data preparation"
   ]
  },
  {
   "cell_type": "markdown",
   "metadata": {},
   "source": [
    "Let's load the cities. We'll filter out any groups that weren't 'active' during the period of study (2013-2014, inclusive). Active groups are those that have had an event with at least two attendees."
   ]
  },
  {
   "cell_type": "code",
   "execution_count": 10,
   "metadata": {
    "collapsed": false
   },
   "outputs": [
    {
     "name": "stdout",
     "output_type": "stream",
     "text": [
      " number of groups before filtering: 1588\n"
     ]
    }
   ],
   "source": [
    "all_city2groups = analysis_tools.get_city2groups('GB')\n",
    "print \"number of groups before filtering:\", sum(len(groups) for groups in all_city2groups.itervalues())"
   ]
  },
  {
   "cell_type": "code",
   "execution_count": 11,
   "metadata": {
    "collapsed": false
   },
   "outputs": [
    {
     "name": "stdout",
     "output_type": "stream",
     "text": [
      "number of groups after filtering: 938\n"
     ]
    }
   ],
   "source": [
    "def is_active(grp):\n",
    "    for event in grp['events_in_window']:\n",
    "        if len(event['attendee_ids']) >= 2:\n",
    "            return True\n",
    "    return False\n",
    "        \n",
    "for city_ident in all_city2groups.iterkeys():\n",
    "    all_city2groups[city_ident] = filter(is_active, all_city2groups[city_ident])\n",
    "    \n",
    "print \"number of groups after filtering:\", sum(len(groups) for groups in all_city2groups.itervalues())"
   ]
  },
  {
   "cell_type": "markdown",
   "metadata": {},
   "source": [
    "How many usable groups do we have per city?"
   ]
  },
  {
   "cell_type": "code",
   "execution_count": 14,
   "metadata": {
    "collapsed": false
   },
   "outputs": [
    {
     "name": "stdout",
     "output_type": "stream",
     "text": [
      "1         545       GB::London\n",
      "2         36        GB::Manchester\n",
      "3         35        GB::Bristol\n",
      "4         32        GB::Cambridge\n",
      "5         25        GB::Edinburgh\n",
      "...\n"
     ]
    }
   ],
   "source": [
    "group_counts = collections.Counter({city: len(groups) for city, groups in all_city2groups.iteritems()})\n",
    "\n",
    "for indx, (k, v) in enumerate(group_counts.most_common(5)):\n",
    "    print \"%-10s%-10s%s\" % (indx+1, v, k)\n",
    "print \"...\""
   ]
  },
  {
   "cell_type": "code",
   "execution_count": 18,
   "metadata": {
    "collapsed": false
   },
   "outputs": [
    {
     "name": "stdout",
     "output_type": "stream",
     "text": [
      "43 cities with at least 2 groups:\n",
      "GB::Milton Keynes, GB::Cardiff, GB::Leicester, GB::Coventry, GB::Southampton, GB::Hull, GB::London, GB::Norwich, GB::Bath, GB::Belfast, GB::Birmingham, GB::Temple Meads, GB::Guildford, GB::Isleworth, GB::Poole, GB::Colchester, GB::Canterbury, GB::Swindon, GB::Nottingham, GB::Northampton, GB::Reading, GB::Plymouth, GB::Bristol, GB::Glasgow, GB::Manchester, GB::Cambridge, GB::Hove, GB::Liverpool, GB::Ipswich, GB::Sheffield, GB::Exeter, GB::Warrington, GB::Tunbridge Wells, GB::Edinburgh, GB::Swansea, GB::Marlow, GB::Cheltenham, GB::Oxford, GB::Leeds, GB::Brighton, GB::Newcastle Upon Tyne, GB::Luton, GB::Peterborough\n"
     ]
    }
   ],
   "source": [
    "min_num_groups = 2\n",
    "keep_cities = [city for city, count in group_counts.iteritems() if count >= min_num_groups]\n",
    "\n",
    "print \"%d cities with at least %s groups:\" % (len(keep_cities), min_num_groups)\n",
    "print ', '.join(keep_cities)\n",
    "\n",
    "city2groups = {city: all_city2groups[city] for city in keep_cities}  # all cities for study"
   ]
  },
  {
   "cell_type": "code",
   "execution_count": 20,
   "metadata": {
    "collapsed": false
   },
   "outputs": [
    {
     "name": "stdout",
     "output_type": "stream",
     "text": [
      "number of groups among cities retained for study: 868\n"
     ]
    }
   ],
   "source": [
    "print \"number of groups among cities retained for study:\", sum(len(groups) for groups in city2groups.itervalues())"
   ]
  },
  {
   "cell_type": "markdown",
   "metadata": {},
   "source": [
    "# PCA"
   ]
  },
  {
   "cell_type": "code",
   "execution_count": 23,
   "metadata": {
    "collapsed": false
   },
   "outputs": [],
   "source": [
    "topic_counts = collections.Counter()\n",
    "\n",
    "for city, groups in city2groups.iteritems():\n",
    "    for group in groups:\n",
    "        for topic_dict in group['topics']:\n",
    "            topic_name = topic_dict['name']\n",
    "            topic_counts[topic_name]"
   ]
  },
  {
   "cell_type": "code",
   "execution_count": null,
   "metadata": {
    "collapsed": true
   },
   "outputs": [],
   "source": []
  }
 ],
 "metadata": {
  "kernelspec": {
   "display_name": "Python 2",
   "language": "python",
   "name": "python2"
  },
  "language_info": {
   "codemirror_mode": {
    "name": "ipython",
    "version": 2
   },
   "file_extension": ".py",
   "mimetype": "text/x-python",
   "name": "python",
   "nbconvert_exporter": "python",
   "pygments_lexer": "ipython2",
   "version": "2.7.6"
  }
 },
 "nbformat": 4,
 "nbformat_minor": 0
}
